{
  "metadata": {
    "kernelspec": {
      "language": "python",
      "display_name": "Python 3",
      "name": "python3"
    },
    "language_info": {
      "name": "python",
      "version": "3.10.14",
      "mimetype": "text/x-python",
      "codemirror_mode": {
        "name": "ipython",
        "version": 3
      },
      "pygments_lexer": "ipython3",
      "nbconvert_exporter": "python",
      "file_extension": ".py"
    },
    "kaggle": {
      "accelerator": "none",
      "dataSources": [
        {
          "sourceId": 132576567,
          "sourceType": "kernelVersion"
        }
      ],
      "dockerImageVersionId": 30786,
      "isInternetEnabled": false,
      "language": "python",
      "sourceType": "notebook",
      "isGpuEnabled": false
    },
    "colab": {
      "name": "SQL_project",
      "provenance": [],
      "include_colab_link": true
    }
  },
  "nbformat_minor": 0,
  "nbformat": 4,
  "cells": [
    {
      "cell_type": "markdown",
      "metadata": {
        "id": "view-in-github",
        "colab_type": "text"
      },
      "source": [
        "<a href=\"https://colab.research.google.com/github/raunaka928/python_cypher/blob/main/SQL_project.ipynb\" target=\"_parent\"><img src=\"https://colab.research.google.com/assets/colab-badge.svg\" alt=\"Open In Colab\"/></a>"
      ]
    },
    {
      "cell_type": "code",
      "source": [
        "from google.cloud import bigquery\n",
        "\n",
        "# Create a \"Client\" object\n",
        "client = bigquery.Client()\n",
        "\n",
        "# Construct a reference to the \"openaq\" dataset\n",
        "dataset_ref = client.dataset(\"openaq\", project=\"bigquery-public-data\")\n",
        "\n",
        "# API request - fetch the dataset\n",
        "dataset = client.get_dataset(dataset_ref)\n",
        "\n",
        "# Construct a reference to the \"global_air_quality\" table\n",
        "table_ref = dataset_ref.table(\"global_air_quality\")\n",
        "\n",
        "# API request - fetch the table\n",
        "table = client.get_table(table_ref)\n",
        "\n",
        "# Preview the first five lines of the \"global_air_quality\" table\n",
        "client.list_rows(table, max_results=10).to_dataframe()\n",
        "\n"
      ],
      "metadata": {
        "_uuid": "8f2839f25d086af736a60e9eeb907d3b93b6e0e5",
        "_cell_guid": "b1076dfc-b9ad-4769-8c92-a6c4dae69d19",
        "execution": {
          "iopub.status.busy": "2024-10-09T18:39:51.462002Z",
          "iopub.execute_input": "2024-10-09T18:39:51.462567Z",
          "iopub.status.idle": "2024-10-09T18:39:53.034259Z",
          "shell.execute_reply.started": "2024-10-09T18:39:51.4625Z",
          "shell.execute_reply": "2024-10-09T18:39:53.032976Z"
        },
        "trusted": true,
        "id": "fOkuwdWBmySP",
        "outputId": "e95b0c84-f503-4894-8e50-34cf126cb98d"
      },
      "execution_count": null,
      "outputs": [
        {
          "name": "stdout",
          "text": "Using Kaggle's public dataset BigQuery integration.\n",
          "output_type": "stream"
        },
        {
          "execution_count": 6,
          "output_type": "execute_result",
          "data": {
            "text/plain": "                     location          city country pollutant    value  \\\n0      Borówiec, ul. Drapałka      Borówiec      PL        bc  0.85217   \n1       Kraków, ul. Bulwarowa        Kraków      PL        bc  0.91284   \n2             Płock, ul. Reja         Płock      PL        bc  1.41000   \n3     Elbląg, ul. Bażyńskiego        Elbląg      PL        bc  0.33607   \n4     Piastów, ul. Pułaskiego       Piastów      PL        bc  0.51000   \n5          Biała, ul. Kmicica         Biała      PL        bc  5.64000   \n6  Białystok, ul. Waszyngtona     Białystok      PL        bc  0.28000   \n7        Gdańsk, ul. Leczkowa        Gdańsk      PL        bc  0.37260   \n8   Zdzieszowice, ul. Piastów  Zdzieszowice      PL        bc  0.08659   \n9    Mielec, ul. Biernackiego        Mielec      PL        bc  0.49923   \n\n                  timestamp   unit source_name  latitude  longitude  \\\n0 2022-04-28 07:00:00+00:00  µg/m³        GIOS       1.0  52.276794   \n1 2022-04-27 23:00:00+00:00  µg/m³        GIOS       1.0  50.069308   \n2 2022-03-30 04:00:00+00:00  µg/m³        GIOS       1.0  52.550938   \n3 2022-05-03 13:00:00+00:00  µg/m³        GIOS       1.0  54.167847   \n4 2022-05-11 05:00:00+00:00  µg/m³        GIOS       1.0  52.191728   \n5 2022-05-10 06:00:00+00:00  µg/m³        GIOS       1.0  52.602534   \n6 2022-05-09 14:00:00+00:00  µg/m³        GIOS       1.0  53.126689   \n7 2022-05-08 17:00:00+00:00  µg/m³        GIOS       1.0  54.380279   \n8 2022-05-15 19:00:00+00:00  µg/m³        GIOS       1.0  50.423533   \n9 2022-05-11 05:00:00+00:00  µg/m³        GIOS       1.0  50.299128   \n\n   averaged_over_in_hours       location_geom  \n0               17.074114  POINT(52.276794 1)  \n1               20.053492  POINT(50.069308 1)  \n2               19.709791  POINT(52.550938 1)  \n3               19.410942  POINT(54.167847 1)  \n4               20.837489  POINT(52.191728 1)  \n5               19.645100  POINT(52.602534 1)  \n6               23.155869  POINT(53.126689 1)  \n7               18.620274  POINT(54.380279 1)  \n8               18.120739  POINT(50.423533 1)  \n9               21.440942  POINT(50.299128 1)  ",
            "text/html": "<div>\n<style scoped>\n    .dataframe tbody tr th:only-of-type {\n        vertical-align: middle;\n    }\n\n    .dataframe tbody tr th {\n        vertical-align: top;\n    }\n\n    .dataframe thead th {\n        text-align: right;\n    }\n</style>\n<table border=\"1\" class=\"dataframe\">\n  <thead>\n    <tr style=\"text-align: right;\">\n      <th></th>\n      <th>location</th>\n      <th>city</th>\n      <th>country</th>\n      <th>pollutant</th>\n      <th>value</th>\n      <th>timestamp</th>\n      <th>unit</th>\n      <th>source_name</th>\n      <th>latitude</th>\n      <th>longitude</th>\n      <th>averaged_over_in_hours</th>\n      <th>location_geom</th>\n    </tr>\n  </thead>\n  <tbody>\n    <tr>\n      <th>0</th>\n      <td>Borówiec, ul. Drapałka</td>\n      <td>Borówiec</td>\n      <td>PL</td>\n      <td>bc</td>\n      <td>0.85217</td>\n      <td>2022-04-28 07:00:00+00:00</td>\n      <td>µg/m³</td>\n      <td>GIOS</td>\n      <td>1.0</td>\n      <td>52.276794</td>\n      <td>17.074114</td>\n      <td>POINT(52.276794 1)</td>\n    </tr>\n    <tr>\n      <th>1</th>\n      <td>Kraków, ul. Bulwarowa</td>\n      <td>Kraków</td>\n      <td>PL</td>\n      <td>bc</td>\n      <td>0.91284</td>\n      <td>2022-04-27 23:00:00+00:00</td>\n      <td>µg/m³</td>\n      <td>GIOS</td>\n      <td>1.0</td>\n      <td>50.069308</td>\n      <td>20.053492</td>\n      <td>POINT(50.069308 1)</td>\n    </tr>\n    <tr>\n      <th>2</th>\n      <td>Płock, ul. Reja</td>\n      <td>Płock</td>\n      <td>PL</td>\n      <td>bc</td>\n      <td>1.41000</td>\n      <td>2022-03-30 04:00:00+00:00</td>\n      <td>µg/m³</td>\n      <td>GIOS</td>\n      <td>1.0</td>\n      <td>52.550938</td>\n      <td>19.709791</td>\n      <td>POINT(52.550938 1)</td>\n    </tr>\n    <tr>\n      <th>3</th>\n      <td>Elbląg, ul. Bażyńskiego</td>\n      <td>Elbląg</td>\n      <td>PL</td>\n      <td>bc</td>\n      <td>0.33607</td>\n      <td>2022-05-03 13:00:00+00:00</td>\n      <td>µg/m³</td>\n      <td>GIOS</td>\n      <td>1.0</td>\n      <td>54.167847</td>\n      <td>19.410942</td>\n      <td>POINT(54.167847 1)</td>\n    </tr>\n    <tr>\n      <th>4</th>\n      <td>Piastów, ul. Pułaskiego</td>\n      <td>Piastów</td>\n      <td>PL</td>\n      <td>bc</td>\n      <td>0.51000</td>\n      <td>2022-05-11 05:00:00+00:00</td>\n      <td>µg/m³</td>\n      <td>GIOS</td>\n      <td>1.0</td>\n      <td>52.191728</td>\n      <td>20.837489</td>\n      <td>POINT(52.191728 1)</td>\n    </tr>\n    <tr>\n      <th>5</th>\n      <td>Biała, ul. Kmicica</td>\n      <td>Biała</td>\n      <td>PL</td>\n      <td>bc</td>\n      <td>5.64000</td>\n      <td>2022-05-10 06:00:00+00:00</td>\n      <td>µg/m³</td>\n      <td>GIOS</td>\n      <td>1.0</td>\n      <td>52.602534</td>\n      <td>19.645100</td>\n      <td>POINT(52.602534 1)</td>\n    </tr>\n    <tr>\n      <th>6</th>\n      <td>Białystok, ul. Waszyngtona</td>\n      <td>Białystok</td>\n      <td>PL</td>\n      <td>bc</td>\n      <td>0.28000</td>\n      <td>2022-05-09 14:00:00+00:00</td>\n      <td>µg/m³</td>\n      <td>GIOS</td>\n      <td>1.0</td>\n      <td>53.126689</td>\n      <td>23.155869</td>\n      <td>POINT(53.126689 1)</td>\n    </tr>\n    <tr>\n      <th>7</th>\n      <td>Gdańsk, ul. Leczkowa</td>\n      <td>Gdańsk</td>\n      <td>PL</td>\n      <td>bc</td>\n      <td>0.37260</td>\n      <td>2022-05-08 17:00:00+00:00</td>\n      <td>µg/m³</td>\n      <td>GIOS</td>\n      <td>1.0</td>\n      <td>54.380279</td>\n      <td>18.620274</td>\n      <td>POINT(54.380279 1)</td>\n    </tr>\n    <tr>\n      <th>8</th>\n      <td>Zdzieszowice, ul. Piastów</td>\n      <td>Zdzieszowice</td>\n      <td>PL</td>\n      <td>bc</td>\n      <td>0.08659</td>\n      <td>2022-05-15 19:00:00+00:00</td>\n      <td>µg/m³</td>\n      <td>GIOS</td>\n      <td>1.0</td>\n      <td>50.423533</td>\n      <td>18.120739</td>\n      <td>POINT(50.423533 1)</td>\n    </tr>\n    <tr>\n      <th>9</th>\n      <td>Mielec, ul. Biernackiego</td>\n      <td>Mielec</td>\n      <td>PL</td>\n      <td>bc</td>\n      <td>0.49923</td>\n      <td>2022-05-11 05:00:00+00:00</td>\n      <td>µg/m³</td>\n      <td>GIOS</td>\n      <td>1.0</td>\n      <td>50.299128</td>\n      <td>21.440942</td>\n      <td>POINT(50.299128 1)</td>\n    </tr>\n  </tbody>\n</table>\n</div>"
          },
          "metadata": {}
        }
      ]
    },
    {
      "cell_type": "code",
      "source": [
        "large_val = \"\"\"\n",
        "        SELECT * FROM bigquery-public-data.openaq.global_air_quality ORDER BY value DESC LIMIT 20\n",
        "\n",
        "        \"\"\"\n",
        "client = bigquery.Client()\n",
        "query_job = client.query(large_val)\n",
        "large_point5 = query_job.to_dataframe()\n",
        "large_point5\n"
      ],
      "metadata": {
        "execution": {
          "iopub.status.busy": "2024-10-09T18:42:47.567099Z",
          "iopub.execute_input": "2024-10-09T18:42:47.567576Z",
          "iopub.status.idle": "2024-10-09T18:42:49.055662Z",
          "shell.execute_reply.started": "2024-10-09T18:42:47.567517Z",
          "shell.execute_reply": "2024-10-09T18:42:49.054444Z"
        },
        "trusted": true,
        "id": "3WC6w1vLmySY",
        "outputId": "5cd31ef1-0358-4b42-c37f-a41de1fc8f11"
      },
      "execution_count": null,
      "outputs": [
        {
          "name": "stdout",
          "text": "Using Kaggle's public dataset BigQuery integration.\n",
          "output_type": "stream"
        },
        {
          "execution_count": 10,
          "output_type": "execute_result",
          "data": {
            "text/plain": "                                  location               city country  \\\n0                                   Albury  South-west Slopes      AU   \n1   GVM Corporation, Visakhapatnam - APPCB      Visakhapatnam      IN   \n2   GVM Corporation, Visakhapatnam - APPCB      Visakhapatnam      IN   \n3   GVM Corporation, Visakhapatnam - APPCB      Visakhapatnam      IN   \n4                                   Monash           Canberra      AU   \n5                                   Monash           Canberra      AU   \n6   GVM Corporation, Visakhapatnam - APPCB      Visakhapatnam      IN   \n7                             Escuela E-10          Tocopilla      CL   \n8   GVM Corporation, Visakhapatnam - APPCB      Visakhapatnam      IN   \n9   GVM Corporation, Visakhapatnam - APPCB      Visakhapatnam      IN   \n10  GVM Corporation, Visakhapatnam - APPCB      Visakhapatnam      IN   \n11  GVM Corporation, Visakhapatnam - APPCB      Visakhapatnam      IN   \n12                              İskenderun              Hatay      TR   \n13       Birla Staff colony, Satna - MPPCB              Satna      IN   \n14       Birla Staff colony, Satna - MPPCB              Satna      IN   \n15                             Doğubeyazıt               Ağrı      TR   \n16                             Gölcük-MTHM            Kocaeli      TR   \n17     IDA Pashamylaram, Hyderabad - TSPCB          Hyderabad      IN   \n18                                 ES1818A             Toledo      ES   \n19                                 ES1818A             Toledo      ES   \n\n   pollutant        value                 timestamp   unit  \\\n0       pm10  26647612.40 2022-04-17 23:00:00+00:00  µg/m³   \n1        so2  13949142.00 2022-05-04 23:00:00+00:00  µg/m³   \n2        so2   6499958.00 2022-05-05 06:00:00+00:00  µg/m³   \n3        so2   1442781.60 2022-05-04 16:00:00+00:00  µg/m³   \n4         co   1428573.00 2022-05-10 02:00:00+00:00    ppm   \n5         co   1428571.00 2022-05-10 01:00:00+00:00    ppm   \n6        so2    850556.80 2022-05-04 14:45:00+00:00  µg/m³   \n7         co    825736.00 2019-07-17 22:00:00+00:00  µg/m³   \n8        so2    477861.80 2022-05-04 17:00:00+00:00  µg/m³   \n9        so2    366459.40 2022-05-04 14:00:00+00:00  µg/m³   \n10       so2    155030.60 2022-05-05 07:00:00+00:00  µg/m³   \n11       so2    133520.40 2022-05-04 20:00:00+00:00  µg/m³   \n12       so2     95880.55 2022-04-05 12:00:00+00:00  µg/m³   \n13        co     80000.00 2018-03-14 03:30:00+00:00  µg/m³   \n14        co     80000.00 2018-03-14 03:30:00+00:00  µg/m³   \n15        co     69298.85 2022-04-12 04:00:00+00:00  µg/m³   \n16      pm10     65984.84 2022-04-13 05:00:00+00:00  µg/m³   \n17        co     50270.00 2022-04-11 04:00:00+00:00  µg/m³   \n18        co     50000.00 2017-11-27 12:00:00+00:00  µg/m³   \n19        co     50000.00 2017-11-27 12:00:00+00:00  µg/m³   \n\n                    source_name   latitude  longitude  averaged_over_in_hours  \\\n0   Australia - New South Wales  24.000000 -36.051667              146.974167   \n1                         caaqm   1.000000  17.720000               83.300000   \n2                         caaqm   1.000000  17.720000               83.300000   \n3                         caaqm   1.000000  17.720000               83.300000   \n4               Australia - ACT   1.000000 -35.418302              149.094018   \n5               Australia - ACT   1.000000 -35.418302              149.094018   \n6                         caaqm   1.000000  17.720000               83.300000   \n7                 Chile - SINCA   1.000000 -22.085519              -70.188683   \n8                         caaqm   1.000000  17.720000               83.300000   \n9                         caaqm   1.000000  17.720000               83.300000   \n10                        caaqm   1.000000  17.720000               83.300000   \n11                        caaqm   1.000000  17.720000               83.300000   \n12                       Turkey   1.000000  36.714140               36.223919   \n13                  data.gov.in   1.000000  24.590826               80.857428   \n14                  data.gov.in  24.590826  80.857430                1.000000   \n15                       Turkey   1.000000  39.547600               44.083595   \n16                       Turkey   1.000000  40.725970               29.794630   \n17                        caaqm   1.000000  17.531689               78.218939   \n18                    EEA Spain   1.000000  39.868060               -4.020830   \n19                    EEA Spain  39.868060  -4.020830                1.000000   \n\n                location_geom  \n0       POINT(-36.0516667 24)  \n1              POINT(17.72 1)  \n2              POINT(17.72 1)  \n3              POINT(17.72 1)  \n4         POINT(-35.418302 1)  \n5         POINT(-35.418302 1)  \n6              POINT(17.72 1)  \n7   POINT(-22.085518710314 1)  \n8              POINT(17.72 1)  \n9              POINT(17.72 1)  \n10             POINT(17.72 1)  \n11             POINT(17.72 1)  \n12  POINT(36.7141403795385 1)  \n13        POINT(24.5908256 1)  \n14  POINT(80.85743 24.590826)  \n15           POINT(39.5476 1)  \n16          POINT(40.72597 1)  \n17        POINT(17.5316895 1)  \n18  POINT(39.8680599994715 1)  \n19   POINT(-4.02083 39.86806)  ",
            "text/html": "<div>\n<style scoped>\n    .dataframe tbody tr th:only-of-type {\n        vertical-align: middle;\n    }\n\n    .dataframe tbody tr th {\n        vertical-align: top;\n    }\n\n    .dataframe thead th {\n        text-align: right;\n    }\n</style>\n<table border=\"1\" class=\"dataframe\">\n  <thead>\n    <tr style=\"text-align: right;\">\n      <th></th>\n      <th>location</th>\n      <th>city</th>\n      <th>country</th>\n      <th>pollutant</th>\n      <th>value</th>\n      <th>timestamp</th>\n      <th>unit</th>\n      <th>source_name</th>\n      <th>latitude</th>\n      <th>longitude</th>\n      <th>averaged_over_in_hours</th>\n      <th>location_geom</th>\n    </tr>\n  </thead>\n  <tbody>\n    <tr>\n      <th>0</th>\n      <td>Albury</td>\n      <td>South-west Slopes</td>\n      <td>AU</td>\n      <td>pm10</td>\n      <td>26647612.40</td>\n      <td>2022-04-17 23:00:00+00:00</td>\n      <td>µg/m³</td>\n      <td>Australia - New South Wales</td>\n      <td>24.000000</td>\n      <td>-36.051667</td>\n      <td>146.974167</td>\n      <td>POINT(-36.0516667 24)</td>\n    </tr>\n    <tr>\n      <th>1</th>\n      <td>GVM Corporation, Visakhapatnam - APPCB</td>\n      <td>Visakhapatnam</td>\n      <td>IN</td>\n      <td>so2</td>\n      <td>13949142.00</td>\n      <td>2022-05-04 23:00:00+00:00</td>\n      <td>µg/m³</td>\n      <td>caaqm</td>\n      <td>1.000000</td>\n      <td>17.720000</td>\n      <td>83.300000</td>\n      <td>POINT(17.72 1)</td>\n    </tr>\n    <tr>\n      <th>2</th>\n      <td>GVM Corporation, Visakhapatnam - APPCB</td>\n      <td>Visakhapatnam</td>\n      <td>IN</td>\n      <td>so2</td>\n      <td>6499958.00</td>\n      <td>2022-05-05 06:00:00+00:00</td>\n      <td>µg/m³</td>\n      <td>caaqm</td>\n      <td>1.000000</td>\n      <td>17.720000</td>\n      <td>83.300000</td>\n      <td>POINT(17.72 1)</td>\n    </tr>\n    <tr>\n      <th>3</th>\n      <td>GVM Corporation, Visakhapatnam - APPCB</td>\n      <td>Visakhapatnam</td>\n      <td>IN</td>\n      <td>so2</td>\n      <td>1442781.60</td>\n      <td>2022-05-04 16:00:00+00:00</td>\n      <td>µg/m³</td>\n      <td>caaqm</td>\n      <td>1.000000</td>\n      <td>17.720000</td>\n      <td>83.300000</td>\n      <td>POINT(17.72 1)</td>\n    </tr>\n    <tr>\n      <th>4</th>\n      <td>Monash</td>\n      <td>Canberra</td>\n      <td>AU</td>\n      <td>co</td>\n      <td>1428573.00</td>\n      <td>2022-05-10 02:00:00+00:00</td>\n      <td>ppm</td>\n      <td>Australia - ACT</td>\n      <td>1.000000</td>\n      <td>-35.418302</td>\n      <td>149.094018</td>\n      <td>POINT(-35.418302 1)</td>\n    </tr>\n    <tr>\n      <th>5</th>\n      <td>Monash</td>\n      <td>Canberra</td>\n      <td>AU</td>\n      <td>co</td>\n      <td>1428571.00</td>\n      <td>2022-05-10 01:00:00+00:00</td>\n      <td>ppm</td>\n      <td>Australia - ACT</td>\n      <td>1.000000</td>\n      <td>-35.418302</td>\n      <td>149.094018</td>\n      <td>POINT(-35.418302 1)</td>\n    </tr>\n    <tr>\n      <th>6</th>\n      <td>GVM Corporation, Visakhapatnam - APPCB</td>\n      <td>Visakhapatnam</td>\n      <td>IN</td>\n      <td>so2</td>\n      <td>850556.80</td>\n      <td>2022-05-04 14:45:00+00:00</td>\n      <td>µg/m³</td>\n      <td>caaqm</td>\n      <td>1.000000</td>\n      <td>17.720000</td>\n      <td>83.300000</td>\n      <td>POINT(17.72 1)</td>\n    </tr>\n    <tr>\n      <th>7</th>\n      <td>Escuela E-10</td>\n      <td>Tocopilla</td>\n      <td>CL</td>\n      <td>co</td>\n      <td>825736.00</td>\n      <td>2019-07-17 22:00:00+00:00</td>\n      <td>µg/m³</td>\n      <td>Chile - SINCA</td>\n      <td>1.000000</td>\n      <td>-22.085519</td>\n      <td>-70.188683</td>\n      <td>POINT(-22.085518710314 1)</td>\n    </tr>\n    <tr>\n      <th>8</th>\n      <td>GVM Corporation, Visakhapatnam - APPCB</td>\n      <td>Visakhapatnam</td>\n      <td>IN</td>\n      <td>so2</td>\n      <td>477861.80</td>\n      <td>2022-05-04 17:00:00+00:00</td>\n      <td>µg/m³</td>\n      <td>caaqm</td>\n      <td>1.000000</td>\n      <td>17.720000</td>\n      <td>83.300000</td>\n      <td>POINT(17.72 1)</td>\n    </tr>\n    <tr>\n      <th>9</th>\n      <td>GVM Corporation, Visakhapatnam - APPCB</td>\n      <td>Visakhapatnam</td>\n      <td>IN</td>\n      <td>so2</td>\n      <td>366459.40</td>\n      <td>2022-05-04 14:00:00+00:00</td>\n      <td>µg/m³</td>\n      <td>caaqm</td>\n      <td>1.000000</td>\n      <td>17.720000</td>\n      <td>83.300000</td>\n      <td>POINT(17.72 1)</td>\n    </tr>\n    <tr>\n      <th>10</th>\n      <td>GVM Corporation, Visakhapatnam - APPCB</td>\n      <td>Visakhapatnam</td>\n      <td>IN</td>\n      <td>so2</td>\n      <td>155030.60</td>\n      <td>2022-05-05 07:00:00+00:00</td>\n      <td>µg/m³</td>\n      <td>caaqm</td>\n      <td>1.000000</td>\n      <td>17.720000</td>\n      <td>83.300000</td>\n      <td>POINT(17.72 1)</td>\n    </tr>\n    <tr>\n      <th>11</th>\n      <td>GVM Corporation, Visakhapatnam - APPCB</td>\n      <td>Visakhapatnam</td>\n      <td>IN</td>\n      <td>so2</td>\n      <td>133520.40</td>\n      <td>2022-05-04 20:00:00+00:00</td>\n      <td>µg/m³</td>\n      <td>caaqm</td>\n      <td>1.000000</td>\n      <td>17.720000</td>\n      <td>83.300000</td>\n      <td>POINT(17.72 1)</td>\n    </tr>\n    <tr>\n      <th>12</th>\n      <td>İskenderun</td>\n      <td>Hatay</td>\n      <td>TR</td>\n      <td>so2</td>\n      <td>95880.55</td>\n      <td>2022-04-05 12:00:00+00:00</td>\n      <td>µg/m³</td>\n      <td>Turkey</td>\n      <td>1.000000</td>\n      <td>36.714140</td>\n      <td>36.223919</td>\n      <td>POINT(36.7141403795385 1)</td>\n    </tr>\n    <tr>\n      <th>13</th>\n      <td>Birla Staff colony, Satna - MPPCB</td>\n      <td>Satna</td>\n      <td>IN</td>\n      <td>co</td>\n      <td>80000.00</td>\n      <td>2018-03-14 03:30:00+00:00</td>\n      <td>µg/m³</td>\n      <td>data.gov.in</td>\n      <td>1.000000</td>\n      <td>24.590826</td>\n      <td>80.857428</td>\n      <td>POINT(24.5908256 1)</td>\n    </tr>\n    <tr>\n      <th>14</th>\n      <td>Birla Staff colony, Satna - MPPCB</td>\n      <td>Satna</td>\n      <td>IN</td>\n      <td>co</td>\n      <td>80000.00</td>\n      <td>2018-03-14 03:30:00+00:00</td>\n      <td>µg/m³</td>\n      <td>data.gov.in</td>\n      <td>24.590826</td>\n      <td>80.857430</td>\n      <td>1.000000</td>\n      <td>POINT(80.85743 24.590826)</td>\n    </tr>\n    <tr>\n      <th>15</th>\n      <td>Doğubeyazıt</td>\n      <td>Ağrı</td>\n      <td>TR</td>\n      <td>co</td>\n      <td>69298.85</td>\n      <td>2022-04-12 04:00:00+00:00</td>\n      <td>µg/m³</td>\n      <td>Turkey</td>\n      <td>1.000000</td>\n      <td>39.547600</td>\n      <td>44.083595</td>\n      <td>POINT(39.5476 1)</td>\n    </tr>\n    <tr>\n      <th>16</th>\n      <td>Gölcük-MTHM</td>\n      <td>Kocaeli</td>\n      <td>TR</td>\n      <td>pm10</td>\n      <td>65984.84</td>\n      <td>2022-04-13 05:00:00+00:00</td>\n      <td>µg/m³</td>\n      <td>Turkey</td>\n      <td>1.000000</td>\n      <td>40.725970</td>\n      <td>29.794630</td>\n      <td>POINT(40.72597 1)</td>\n    </tr>\n    <tr>\n      <th>17</th>\n      <td>IDA Pashamylaram, Hyderabad - TSPCB</td>\n      <td>Hyderabad</td>\n      <td>IN</td>\n      <td>co</td>\n      <td>50270.00</td>\n      <td>2022-04-11 04:00:00+00:00</td>\n      <td>µg/m³</td>\n      <td>caaqm</td>\n      <td>1.000000</td>\n      <td>17.531689</td>\n      <td>78.218939</td>\n      <td>POINT(17.5316895 1)</td>\n    </tr>\n    <tr>\n      <th>18</th>\n      <td>ES1818A</td>\n      <td>Toledo</td>\n      <td>ES</td>\n      <td>co</td>\n      <td>50000.00</td>\n      <td>2017-11-27 12:00:00+00:00</td>\n      <td>µg/m³</td>\n      <td>EEA Spain</td>\n      <td>1.000000</td>\n      <td>39.868060</td>\n      <td>-4.020830</td>\n      <td>POINT(39.8680599994715 1)</td>\n    </tr>\n    <tr>\n      <th>19</th>\n      <td>ES1818A</td>\n      <td>Toledo</td>\n      <td>ES</td>\n      <td>co</td>\n      <td>50000.00</td>\n      <td>2017-11-27 12:00:00+00:00</td>\n      <td>µg/m³</td>\n      <td>EEA Spain</td>\n      <td>39.868060</td>\n      <td>-4.020830</td>\n      <td>1.000000</td>\n      <td>POINT(-4.02083 39.86806)</td>\n    </tr>\n  </tbody>\n</table>\n</div>"
          },
          "metadata": {}
        }
      ]
    },
    {
      "cell_type": "code",
      "source": [
        "q2 = '''\n",
        "    SELECT country, count(country) as Frequency FROM bigquery-public-data.openaq.global_air_quality GROUP BY Country ORDER BY count(country) DESC LIMIT 10\n",
        "    SELECT country, count(country) as Frequency FROM bigquery-public-data.openaq.global_air_quality GROUP BY Country ORDER BY count(country) LIMIT 10\n",
        "\n",
        "    '''\n",
        "query_job = client.query(q2)\n",
        "q2 = query_job.to_dataframe()\n",
        "q2"
      ],
      "metadata": {
        "execution": {
          "iopub.status.busy": "2024-10-09T01:29:56.901516Z",
          "iopub.execute_input": "2024-10-09T01:29:56.901991Z",
          "iopub.status.idle": "2024-10-09T01:29:59.784104Z",
          "shell.execute_reply.started": "2024-10-09T01:29:56.901951Z",
          "shell.execute_reply": "2024-10-09T01:29:59.783036Z"
        },
        "trusted": true,
        "id": "wOp1kfJxmySZ",
        "outputId": "68d4100c-5701-4328-9049-768f4919806c"
      },
      "execution_count": null,
      "outputs": [
        {
          "execution_count": 27,
          "output_type": "execute_result",
          "data": {
            "text/plain": "  country  Frequency\n0      US    1421351\n1      IN     770712\n2      PL     341984\n3      IT     280898\n4      CA     266933\n5      GB     252573\n6      FR     221553\n7      TH     208832\n8      AU     168962\n9      AT     133068",
            "text/html": "<div>\n<style scoped>\n    .dataframe tbody tr th:only-of-type {\n        vertical-align: middle;\n    }\n\n    .dataframe tbody tr th {\n        vertical-align: top;\n    }\n\n    .dataframe thead th {\n        text-align: right;\n    }\n</style>\n<table border=\"1\" class=\"dataframe\">\n  <thead>\n    <tr style=\"text-align: right;\">\n      <th></th>\n      <th>country</th>\n      <th>Frequency</th>\n    </tr>\n  </thead>\n  <tbody>\n    <tr>\n      <th>0</th>\n      <td>US</td>\n      <td>1421351</td>\n    </tr>\n    <tr>\n      <th>1</th>\n      <td>IN</td>\n      <td>770712</td>\n    </tr>\n    <tr>\n      <th>2</th>\n      <td>PL</td>\n      <td>341984</td>\n    </tr>\n    <tr>\n      <th>3</th>\n      <td>IT</td>\n      <td>280898</td>\n    </tr>\n    <tr>\n      <th>4</th>\n      <td>CA</td>\n      <td>266933</td>\n    </tr>\n    <tr>\n      <th>5</th>\n      <td>GB</td>\n      <td>252573</td>\n    </tr>\n    <tr>\n      <th>6</th>\n      <td>FR</td>\n      <td>221553</td>\n    </tr>\n    <tr>\n      <th>7</th>\n      <td>TH</td>\n      <td>208832</td>\n    </tr>\n    <tr>\n      <th>8</th>\n      <td>AU</td>\n      <td>168962</td>\n    </tr>\n    <tr>\n      <th>9</th>\n      <td>AT</td>\n      <td>133068</td>\n    </tr>\n  </tbody>\n</table>\n</div>"
          },
          "metadata": {}
        }
      ]
    },
    {
      "cell_type": "code",
      "source": [
        "q3 = '''\n",
        "    SELECT Country, COUNT(pollutant) FROM bigquery-public-data.openaq.global_air_quality GROUP BY country ORDER BY count(pollutant)\n",
        "    SELECT pollutant, count(pollutant) as Frequency FROM bigquery-public-data.openaq.global_air_quality GROUP BY pollutant ORDER BY count(pollutant) DESC\n",
        "    '''\n",
        "query_job = client.query(q3)\n",
        "q3 = query_job.to_dataframe()\n",
        "q3"
      ],
      "metadata": {
        "execution": {
          "iopub.status.busy": "2024-10-09T02:18:06.31314Z",
          "iopub.execute_input": "2024-10-09T02:18:06.313583Z",
          "iopub.status.idle": "2024-10-09T02:18:08.850398Z",
          "shell.execute_reply.started": "2024-10-09T02:18:06.31354Z",
          "shell.execute_reply": "2024-10-09T02:18:08.849262Z"
        },
        "trusted": true,
        "id": "b2wE1LdYmySa",
        "outputId": "62d2aa7b-d546-426d-b7a7-ef41a7bec1f7"
      },
      "execution_count": null,
      "outputs": [
        {
          "execution_count": 35,
          "output_type": "execute_result",
          "data": {
            "text/plain": "    Country      f0_\n0        PH        2\n1        NG        2\n2        SG        2\n3        AF        4\n4        SA        7\n..      ...      ...\n106      CA   266933\n107      IT   280898\n108      PL   341984\n109      IN   770712\n110      US  1421351\n\n[111 rows x 2 columns]",
            "text/html": "<div>\n<style scoped>\n    .dataframe tbody tr th:only-of-type {\n        vertical-align: middle;\n    }\n\n    .dataframe tbody tr th {\n        vertical-align: top;\n    }\n\n    .dataframe thead th {\n        text-align: right;\n    }\n</style>\n<table border=\"1\" class=\"dataframe\">\n  <thead>\n    <tr style=\"text-align: right;\">\n      <th></th>\n      <th>Country</th>\n      <th>f0_</th>\n    </tr>\n  </thead>\n  <tbody>\n    <tr>\n      <th>0</th>\n      <td>PH</td>\n      <td>2</td>\n    </tr>\n    <tr>\n      <th>1</th>\n      <td>NG</td>\n      <td>2</td>\n    </tr>\n    <tr>\n      <th>2</th>\n      <td>SG</td>\n      <td>2</td>\n    </tr>\n    <tr>\n      <th>3</th>\n      <td>AF</td>\n      <td>4</td>\n    </tr>\n    <tr>\n      <th>4</th>\n      <td>SA</td>\n      <td>7</td>\n    </tr>\n    <tr>\n      <th>...</th>\n      <td>...</td>\n      <td>...</td>\n    </tr>\n    <tr>\n      <th>106</th>\n      <td>CA</td>\n      <td>266933</td>\n    </tr>\n    <tr>\n      <th>107</th>\n      <td>IT</td>\n      <td>280898</td>\n    </tr>\n    <tr>\n      <th>108</th>\n      <td>PL</td>\n      <td>341984</td>\n    </tr>\n    <tr>\n      <th>109</th>\n      <td>IN</td>\n      <td>770712</td>\n    </tr>\n    <tr>\n      <th>110</th>\n      <td>US</td>\n      <td>1421351</td>\n    </tr>\n  </tbody>\n</table>\n<p>111 rows × 2 columns</p>\n</div>"
          },
          "metadata": {}
        }
      ]
    },
    {
      "cell_type": "code",
      "source": [
        "q4 = '''\n",
        "    SELECT city, AVG(value) FROM bigquery-public-data.openaq.global_air_quality WHERE pollutant = 'co' GROUP BY city HAVING AVG(value) > 35\n",
        "ORDER BY 2 DESC\n",
        "    '''\n",
        "\n",
        "query_job = client.query(q4)\n",
        "q4 = query_job.to_dataframe()\n",
        "q4\n"
      ],
      "metadata": {
        "execution": {
          "iopub.status.busy": "2024-10-09T18:45:16.182747Z",
          "iopub.execute_input": "2024-10-09T18:45:16.183162Z",
          "iopub.status.idle": "2024-10-09T18:45:17.822619Z",
          "shell.execute_reply.started": "2024-10-09T18:45:16.183125Z",
          "shell.execute_reply": "2024-10-09T18:45:17.821396Z"
        },
        "trusted": true,
        "id": "l-z5j9iKmySb",
        "outputId": "92b334a7-cdd3-4ee1-f24f-7a80ebf6aec5"
      },
      "execution_count": null,
      "outputs": [
        {
          "execution_count": 15,
          "output_type": "execute_result",
          "data": {
            "text/plain": "                city            f0_\n0          Tocopilla  275663.080000\n1             Toledo   50000.000000\n2      Gómez Palacio   45615.000000\n3             Araria    9130.000000\n4            Cabrero    7182.385000\n...              ...            ...\n1088  Brabant wallon      65.092500\n1089       Top Floor      60.000000\n1090     Dublin City      52.261886\n1091         Saharsa      50.863309\n1092            五家渠市      50.000000\n\n[1093 rows x 2 columns]",
            "text/html": "<div>\n<style scoped>\n    .dataframe tbody tr th:only-of-type {\n        vertical-align: middle;\n    }\n\n    .dataframe tbody tr th {\n        vertical-align: top;\n    }\n\n    .dataframe thead th {\n        text-align: right;\n    }\n</style>\n<table border=\"1\" class=\"dataframe\">\n  <thead>\n    <tr style=\"text-align: right;\">\n      <th></th>\n      <th>city</th>\n      <th>f0_</th>\n    </tr>\n  </thead>\n  <tbody>\n    <tr>\n      <th>0</th>\n      <td>Tocopilla</td>\n      <td>275663.080000</td>\n    </tr>\n    <tr>\n      <th>1</th>\n      <td>Toledo</td>\n      <td>50000.000000</td>\n    </tr>\n    <tr>\n      <th>2</th>\n      <td>Gómez Palacio</td>\n      <td>45615.000000</td>\n    </tr>\n    <tr>\n      <th>3</th>\n      <td>Araria</td>\n      <td>9130.000000</td>\n    </tr>\n    <tr>\n      <th>4</th>\n      <td>Cabrero</td>\n      <td>7182.385000</td>\n    </tr>\n    <tr>\n      <th>...</th>\n      <td>...</td>\n      <td>...</td>\n    </tr>\n    <tr>\n      <th>1088</th>\n      <td>Brabant wallon</td>\n      <td>65.092500</td>\n    </tr>\n    <tr>\n      <th>1089</th>\n      <td>Top Floor</td>\n      <td>60.000000</td>\n    </tr>\n    <tr>\n      <th>1090</th>\n      <td>Dublin City</td>\n      <td>52.261886</td>\n    </tr>\n    <tr>\n      <th>1091</th>\n      <td>Saharsa</td>\n      <td>50.863309</td>\n    </tr>\n    <tr>\n      <th>1092</th>\n      <td>五家渠市</td>\n      <td>50.000000</td>\n    </tr>\n  </tbody>\n</table>\n<p>1093 rows × 2 columns</p>\n</div>"
          },
          "metadata": {}
        }
      ]
    }
  ]
}